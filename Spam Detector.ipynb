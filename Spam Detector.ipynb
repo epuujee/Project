{
  "cells": [
    {
      "cell_type": "markdown",
      "source": [
        "# Gannon University - Statistical Computing\n",
        "Course Project - Spam Filter"
      ],
      "metadata": {
        "id": "vZojofnZUrPO"
      },
      "id": "vZojofnZUrPO"
    },
    {
      "cell_type": "markdown",
      "id": "409e62a6",
      "metadata": {
        "id": "409e62a6"
      },
      "source": [
        "## Import packages and libraries"
      ]
    },
    {
      "cell_type": "code",
      "execution_count": 153,
      "id": "88096679",
      "metadata": {
        "id": "88096679"
      },
      "outputs": [],
      "source": [
        "import warnings\n",
        "import matplotlib.pyplot as plt\n",
        "import seaborn as sns\n",
        "import numpy as np \n",
        "import pandas as pd\n",
        "import plotly.express as px\n",
        "import re\n",
        "import nltk\n",
        "from nltk.corpus import stopwords\n",
        "from nltk.stem.porter import PorterStemmer\n",
        "from nltk.stem import WordNetLemmatizer\n",
        "from sklearn.feature_extraction.text import TfidfVectorizer\n",
        "from sklearn.preprocessing import LabelEncoder\n",
        "from sklearn.model_selection import train_test_split\n",
        "from sklearn.pipeline import Pipeline    \n",
        "from sklearn.naive_bayes import MultinomialNB\n",
        "from sklearn.ensemble import RandomForestClassifier\n",
        "from sklearn.neighbors import KNeighborsClassifier\n",
        "from sklearn.svm import SVC\n",
        "from sklearn.model_selection import cross_val_score\n",
        "from matplotlib.colors import ListedColormap\n",
        "from sklearn.metrics import precision_score, recall_score, confusion_matrix, classification_report, accuracy_score, f1_score\n",
        "from sklearn import metrics"
      ]
    },
    {
      "cell_type": "code",
      "source": [
        "from google.colab import drive\n",
        "drive.mount('/content/drive')"
      ],
      "metadata": {
        "id": "sVjnj_tvUKYl",
        "outputId": "746f9376-4fe2-4653-9489-f27d45d65bef",
        "colab": {
          "base_uri": "https://localhost:8080/"
        }
      },
      "id": "sVjnj_tvUKYl",
      "execution_count": 6,
      "outputs": [
        {
          "output_type": "stream",
          "name": "stdout",
          "text": [
            "Mounted at /content/drive\n"
          ]
        }
      ]
    },
    {
      "cell_type": "markdown",
      "id": "7c177bc2",
      "metadata": {
        "id": "7c177bc2"
      },
      "source": [
        "## Load dataset"
      ]
    },
    {
      "cell_type": "code",
      "execution_count": 15,
      "id": "ecea2648",
      "metadata": {
        "id": "ecea2648",
        "outputId": "51d658b0-29fc-4414-8f0d-1729f3b0b4be",
        "colab": {
          "base_uri": "https://localhost:8080/",
          "height": 206
        }
      },
      "outputs": [
        {
          "output_type": "execute_result",
          "data": {
            "text/plain": [
              "     v1                                                 v2 Unnamed: 2  \\\n",
              "0   ham  Go until jurong point, crazy.. Available only ...        NaN   \n",
              "1   ham                      Ok lar... Joking wif u oni...        NaN   \n",
              "2  spam  Free entry in 2 a wkly comp to win FA Cup fina...        NaN   \n",
              "3   ham  U dun say so early hor... U c already then say...        NaN   \n",
              "4   ham  Nah I don't think he goes to usf, he lives aro...        NaN   \n",
              "\n",
              "  Unnamed: 3 Unnamed: 4  \n",
              "0        NaN        NaN  \n",
              "1        NaN        NaN  \n",
              "2        NaN        NaN  \n",
              "3        NaN        NaN  \n",
              "4        NaN        NaN  "
            ],
            "text/html": [
              "\n",
              "  <div id=\"df-3c88fc45-bd02-4b86-9f4f-e194018d7791\">\n",
              "    <div class=\"colab-df-container\">\n",
              "      <div>\n",
              "<style scoped>\n",
              "    .dataframe tbody tr th:only-of-type {\n",
              "        vertical-align: middle;\n",
              "    }\n",
              "\n",
              "    .dataframe tbody tr th {\n",
              "        vertical-align: top;\n",
              "    }\n",
              "\n",
              "    .dataframe thead th {\n",
              "        text-align: right;\n",
              "    }\n",
              "</style>\n",
              "<table border=\"1\" class=\"dataframe\">\n",
              "  <thead>\n",
              "    <tr style=\"text-align: right;\">\n",
              "      <th></th>\n",
              "      <th>v1</th>\n",
              "      <th>v2</th>\n",
              "      <th>Unnamed: 2</th>\n",
              "      <th>Unnamed: 3</th>\n",
              "      <th>Unnamed: 4</th>\n",
              "    </tr>\n",
              "  </thead>\n",
              "  <tbody>\n",
              "    <tr>\n",
              "      <th>0</th>\n",
              "      <td>ham</td>\n",
              "      <td>Go until jurong point, crazy.. Available only ...</td>\n",
              "      <td>NaN</td>\n",
              "      <td>NaN</td>\n",
              "      <td>NaN</td>\n",
              "    </tr>\n",
              "    <tr>\n",
              "      <th>1</th>\n",
              "      <td>ham</td>\n",
              "      <td>Ok lar... Joking wif u oni...</td>\n",
              "      <td>NaN</td>\n",
              "      <td>NaN</td>\n",
              "      <td>NaN</td>\n",
              "    </tr>\n",
              "    <tr>\n",
              "      <th>2</th>\n",
              "      <td>spam</td>\n",
              "      <td>Free entry in 2 a wkly comp to win FA Cup fina...</td>\n",
              "      <td>NaN</td>\n",
              "      <td>NaN</td>\n",
              "      <td>NaN</td>\n",
              "    </tr>\n",
              "    <tr>\n",
              "      <th>3</th>\n",
              "      <td>ham</td>\n",
              "      <td>U dun say so early hor... U c already then say...</td>\n",
              "      <td>NaN</td>\n",
              "      <td>NaN</td>\n",
              "      <td>NaN</td>\n",
              "    </tr>\n",
              "    <tr>\n",
              "      <th>4</th>\n",
              "      <td>ham</td>\n",
              "      <td>Nah I don't think he goes to usf, he lives aro...</td>\n",
              "      <td>NaN</td>\n",
              "      <td>NaN</td>\n",
              "      <td>NaN</td>\n",
              "    </tr>\n",
              "  </tbody>\n",
              "</table>\n",
              "</div>\n",
              "      <button class=\"colab-df-convert\" onclick=\"convertToInteractive('df-3c88fc45-bd02-4b86-9f4f-e194018d7791')\"\n",
              "              title=\"Convert this dataframe to an interactive table.\"\n",
              "              style=\"display:none;\">\n",
              "        \n",
              "  <svg xmlns=\"http://www.w3.org/2000/svg\" height=\"24px\"viewBox=\"0 0 24 24\"\n",
              "       width=\"24px\">\n",
              "    <path d=\"M0 0h24v24H0V0z\" fill=\"none\"/>\n",
              "    <path d=\"M18.56 5.44l.94 2.06.94-2.06 2.06-.94-2.06-.94-.94-2.06-.94 2.06-2.06.94zm-11 1L8.5 8.5l.94-2.06 2.06-.94-2.06-.94L8.5 2.5l-.94 2.06-2.06.94zm10 10l.94 2.06.94-2.06 2.06-.94-2.06-.94-.94-2.06-.94 2.06-2.06.94z\"/><path d=\"M17.41 7.96l-1.37-1.37c-.4-.4-.92-.59-1.43-.59-.52 0-1.04.2-1.43.59L10.3 9.45l-7.72 7.72c-.78.78-.78 2.05 0 2.83L4 21.41c.39.39.9.59 1.41.59.51 0 1.02-.2 1.41-.59l7.78-7.78 2.81-2.81c.8-.78.8-2.07 0-2.86zM5.41 20L4 18.59l7.72-7.72 1.47 1.35L5.41 20z\"/>\n",
              "  </svg>\n",
              "      </button>\n",
              "      \n",
              "  <style>\n",
              "    .colab-df-container {\n",
              "      display:flex;\n",
              "      flex-wrap:wrap;\n",
              "      gap: 12px;\n",
              "    }\n",
              "\n",
              "    .colab-df-convert {\n",
              "      background-color: #E8F0FE;\n",
              "      border: none;\n",
              "      border-radius: 50%;\n",
              "      cursor: pointer;\n",
              "      display: none;\n",
              "      fill: #1967D2;\n",
              "      height: 32px;\n",
              "      padding: 0 0 0 0;\n",
              "      width: 32px;\n",
              "    }\n",
              "\n",
              "    .colab-df-convert:hover {\n",
              "      background-color: #E2EBFA;\n",
              "      box-shadow: 0px 1px 2px rgba(60, 64, 67, 0.3), 0px 1px 3px 1px rgba(60, 64, 67, 0.15);\n",
              "      fill: #174EA6;\n",
              "    }\n",
              "\n",
              "    [theme=dark] .colab-df-convert {\n",
              "      background-color: #3B4455;\n",
              "      fill: #D2E3FC;\n",
              "    }\n",
              "\n",
              "    [theme=dark] .colab-df-convert:hover {\n",
              "      background-color: #434B5C;\n",
              "      box-shadow: 0px 1px 3px 1px rgba(0, 0, 0, 0.15);\n",
              "      filter: drop-shadow(0px 1px 2px rgba(0, 0, 0, 0.3));\n",
              "      fill: #FFFFFF;\n",
              "    }\n",
              "  </style>\n",
              "\n",
              "      <script>\n",
              "        const buttonEl =\n",
              "          document.querySelector('#df-3c88fc45-bd02-4b86-9f4f-e194018d7791 button.colab-df-convert');\n",
              "        buttonEl.style.display =\n",
              "          google.colab.kernel.accessAllowed ? 'block' : 'none';\n",
              "\n",
              "        async function convertToInteractive(key) {\n",
              "          const element = document.querySelector('#df-3c88fc45-bd02-4b86-9f4f-e194018d7791');\n",
              "          const dataTable =\n",
              "            await google.colab.kernel.invokeFunction('convertToInteractive',\n",
              "                                                     [key], {});\n",
              "          if (!dataTable) return;\n",
              "\n",
              "          const docLinkHtml = 'Like what you see? Visit the ' +\n",
              "            '<a target=\"_blank\" href=https://colab.research.google.com/notebooks/data_table.ipynb>data table notebook</a>'\n",
              "            + ' to learn more about interactive tables.';\n",
              "          element.innerHTML = '';\n",
              "          dataTable['output_type'] = 'display_data';\n",
              "          await google.colab.output.renderOutput(dataTable, element);\n",
              "          const docLink = document.createElement('div');\n",
              "          docLink.innerHTML = docLinkHtml;\n",
              "          element.appendChild(docLink);\n",
              "        }\n",
              "      </script>\n",
              "    </div>\n",
              "  </div>\n",
              "  "
            ]
          },
          "metadata": {},
          "execution_count": 15
        }
      ],
      "source": [
        "df = pd.read_csv('/content/drive/MyDrive/Gannon/spam.csv', encoding='latin-1')\n",
        "df.head()"
      ]
    },
    {
      "cell_type": "code",
      "source": [
        "df = df.drop(df[[\"Unnamed: 2\",\"Unnamed: 3\",\"Unnamed: 4\"]], axis=1)\n",
        "df.rename(columns = {\"v1\":\"class\", \"v2\":\"text\"}, inplace = True)\n",
        "df.head()"
      ],
      "metadata": {
        "id": "J3eoGgaZU-0L",
        "outputId": "ad94cc4b-217c-4094-9a05-a14d6fc4b08e",
        "colab": {
          "base_uri": "https://localhost:8080/",
          "height": 206
        }
      },
      "id": "J3eoGgaZU-0L",
      "execution_count": 17,
      "outputs": [
        {
          "output_type": "execute_result",
          "data": {
            "text/plain": [
              "  class                                               text\n",
              "0   ham  Go until jurong point, crazy.. Available only ...\n",
              "1   ham                      Ok lar... Joking wif u oni...\n",
              "2  spam  Free entry in 2 a wkly comp to win FA Cup fina...\n",
              "3   ham  U dun say so early hor... U c already then say...\n",
              "4   ham  Nah I don't think he goes to usf, he lives aro..."
            ],
            "text/html": [
              "\n",
              "  <div id=\"df-80852064-105e-4ec2-8087-807904898854\">\n",
              "    <div class=\"colab-df-container\">\n",
              "      <div>\n",
              "<style scoped>\n",
              "    .dataframe tbody tr th:only-of-type {\n",
              "        vertical-align: middle;\n",
              "    }\n",
              "\n",
              "    .dataframe tbody tr th {\n",
              "        vertical-align: top;\n",
              "    }\n",
              "\n",
              "    .dataframe thead th {\n",
              "        text-align: right;\n",
              "    }\n",
              "</style>\n",
              "<table border=\"1\" class=\"dataframe\">\n",
              "  <thead>\n",
              "    <tr style=\"text-align: right;\">\n",
              "      <th></th>\n",
              "      <th>class</th>\n",
              "      <th>text</th>\n",
              "    </tr>\n",
              "  </thead>\n",
              "  <tbody>\n",
              "    <tr>\n",
              "      <th>0</th>\n",
              "      <td>ham</td>\n",
              "      <td>Go until jurong point, crazy.. Available only ...</td>\n",
              "    </tr>\n",
              "    <tr>\n",
              "      <th>1</th>\n",
              "      <td>ham</td>\n",
              "      <td>Ok lar... Joking wif u oni...</td>\n",
              "    </tr>\n",
              "    <tr>\n",
              "      <th>2</th>\n",
              "      <td>spam</td>\n",
              "      <td>Free entry in 2 a wkly comp to win FA Cup fina...</td>\n",
              "    </tr>\n",
              "    <tr>\n",
              "      <th>3</th>\n",
              "      <td>ham</td>\n",
              "      <td>U dun say so early hor... U c already then say...</td>\n",
              "    </tr>\n",
              "    <tr>\n",
              "      <th>4</th>\n",
              "      <td>ham</td>\n",
              "      <td>Nah I don't think he goes to usf, he lives aro...</td>\n",
              "    </tr>\n",
              "  </tbody>\n",
              "</table>\n",
              "</div>\n",
              "      <button class=\"colab-df-convert\" onclick=\"convertToInteractive('df-80852064-105e-4ec2-8087-807904898854')\"\n",
              "              title=\"Convert this dataframe to an interactive table.\"\n",
              "              style=\"display:none;\">\n",
              "        \n",
              "  <svg xmlns=\"http://www.w3.org/2000/svg\" height=\"24px\"viewBox=\"0 0 24 24\"\n",
              "       width=\"24px\">\n",
              "    <path d=\"M0 0h24v24H0V0z\" fill=\"none\"/>\n",
              "    <path d=\"M18.56 5.44l.94 2.06.94-2.06 2.06-.94-2.06-.94-.94-2.06-.94 2.06-2.06.94zm-11 1L8.5 8.5l.94-2.06 2.06-.94-2.06-.94L8.5 2.5l-.94 2.06-2.06.94zm10 10l.94 2.06.94-2.06 2.06-.94-2.06-.94-.94-2.06-.94 2.06-2.06.94z\"/><path d=\"M17.41 7.96l-1.37-1.37c-.4-.4-.92-.59-1.43-.59-.52 0-1.04.2-1.43.59L10.3 9.45l-7.72 7.72c-.78.78-.78 2.05 0 2.83L4 21.41c.39.39.9.59 1.41.59.51 0 1.02-.2 1.41-.59l7.78-7.78 2.81-2.81c.8-.78.8-2.07 0-2.86zM5.41 20L4 18.59l7.72-7.72 1.47 1.35L5.41 20z\"/>\n",
              "  </svg>\n",
              "      </button>\n",
              "      \n",
              "  <style>\n",
              "    .colab-df-container {\n",
              "      display:flex;\n",
              "      flex-wrap:wrap;\n",
              "      gap: 12px;\n",
              "    }\n",
              "\n",
              "    .colab-df-convert {\n",
              "      background-color: #E8F0FE;\n",
              "      border: none;\n",
              "      border-radius: 50%;\n",
              "      cursor: pointer;\n",
              "      display: none;\n",
              "      fill: #1967D2;\n",
              "      height: 32px;\n",
              "      padding: 0 0 0 0;\n",
              "      width: 32px;\n",
              "    }\n",
              "\n",
              "    .colab-df-convert:hover {\n",
              "      background-color: #E2EBFA;\n",
              "      box-shadow: 0px 1px 2px rgba(60, 64, 67, 0.3), 0px 1px 3px 1px rgba(60, 64, 67, 0.15);\n",
              "      fill: #174EA6;\n",
              "    }\n",
              "\n",
              "    [theme=dark] .colab-df-convert {\n",
              "      background-color: #3B4455;\n",
              "      fill: #D2E3FC;\n",
              "    }\n",
              "\n",
              "    [theme=dark] .colab-df-convert:hover {\n",
              "      background-color: #434B5C;\n",
              "      box-shadow: 0px 1px 3px 1px rgba(0, 0, 0, 0.15);\n",
              "      filter: drop-shadow(0px 1px 2px rgba(0, 0, 0, 0.3));\n",
              "      fill: #FFFFFF;\n",
              "    }\n",
              "  </style>\n",
              "\n",
              "      <script>\n",
              "        const buttonEl =\n",
              "          document.querySelector('#df-80852064-105e-4ec2-8087-807904898854 button.colab-df-convert');\n",
              "        buttonEl.style.display =\n",
              "          google.colab.kernel.accessAllowed ? 'block' : 'none';\n",
              "\n",
              "        async function convertToInteractive(key) {\n",
              "          const element = document.querySelector('#df-80852064-105e-4ec2-8087-807904898854');\n",
              "          const dataTable =\n",
              "            await google.colab.kernel.invokeFunction('convertToInteractive',\n",
              "                                                     [key], {});\n",
              "          if (!dataTable) return;\n",
              "\n",
              "          const docLinkHtml = 'Like what you see? Visit the ' +\n",
              "            '<a target=\"_blank\" href=https://colab.research.google.com/notebooks/data_table.ipynb>data table notebook</a>'\n",
              "            + ' to learn more about interactive tables.';\n",
              "          element.innerHTML = '';\n",
              "          dataTable['output_type'] = 'display_data';\n",
              "          await google.colab.output.renderOutput(dataTable, element);\n",
              "          const docLink = document.createElement('div');\n",
              "          docLink.innerHTML = docLinkHtml;\n",
              "          element.appendChild(docLink);\n",
              "        }\n",
              "      </script>\n",
              "    </div>\n",
              "  </div>\n",
              "  "
            ]
          },
          "metadata": {},
          "execution_count": 17
        }
      ]
    },
    {
      "cell_type": "markdown",
      "id": "df8c0c4e",
      "metadata": {
        "id": "df8c0c4e"
      },
      "source": [
        "## Data cleaning and feature extraction\n",
        "\n",
        "\n"
      ]
    },
    {
      "cell_type": "code",
      "execution_count": 51,
      "id": "db15d63e",
      "metadata": {
        "id": "db15d63e",
        "outputId": "2fa13b8d-c3b1-418b-948f-124404e98795",
        "colab": {
          "base_uri": "https://localhost:8080/",
          "height": 404
        }
      },
      "outputs": [
        {
          "output_type": "display_data",
          "data": {
            "text/plain": [
              "<Figure size 864x432 with 1 Axes>"
            ],
            "image/png": "[encoded data removed]"
          },
          "metadata": {
            "needs_background": "light"
          }
        }
      ],
      "source": [
        "plt.figure(figsize = (12,6))\n",
        "fg = sns.countplot(y = df[\"class\"], palette='bright')\n",
        "fg.set_title(\"Count Plot by Classes\")\n",
        "fg.set_xlabel(\"SMS count\")\n",
        "fg.set_ylabel(\"Classes\")\n",
        "\n",
        "total = len(df)\n",
        "\n",
        "for p in fg.patches:\n",
        "        percentage = '{:.1f}%'.format(100 * p.get_width()/total)\n",
        "        x = p.get_x() + p.get_width() + 0.02\n",
        "        y = p.get_y() + p.get_height()/2\n",
        "        fg.annotate(percentage, (x, y))\n",
        "\n",
        "plt.show()"
      ]
    },
    {
      "cell_type": "markdown",
      "id": "873ec58d",
      "metadata": {
        "id": "873ec58d"
      },
      "source": [
        "### NLTK feafures "
      ]
    },
    {
      "cell_type": "markdown",
      "id": "22c1d7d3",
      "metadata": {
        "id": "22c1d7d3"
      },
      "source": [
        "Using The Natural Language Toolkit to define the number of characters, words, and sentences."
      ]
    },
    {
      "cell_type": "code",
      "source": [
        "# need to download punctuations from nltk library\n",
        "nltk.download('punkt')"
      ],
      "metadata": {
        "id": "gvYnqhmmjTR3",
        "outputId": "ba036fb6-c697-4933-bb7b-3ea3269600be",
        "colab": {
          "base_uri": "https://localhost:8080/"
        }
      },
      "id": "gvYnqhmmjTR3",
      "execution_count": 130,
      "outputs": [
        {
          "output_type": "stream",
          "name": "stdout",
          "text": [
            "[nltk_data] Downloading package punkt to /root/nltk_data...\n",
            "[nltk_data]   Package punkt is already up-to-date!\n"
          ]
        },
        {
          "output_type": "execute_result",
          "data": {
            "text/plain": [
              "True"
            ]
          },
          "metadata": {},
          "execution_count": 130
        }
      ]
    },
    {
      "cell_type": "code",
      "execution_count": 131,
      "id": "2c78b054",
      "metadata": {
        "id": "2c78b054",
        "outputId": "849c507e-bc90-4d88-b1f0-69de05c68cc7",
        "colab": {
          "base_uri": "https://localhost:8080/",
          "height": 424
        }
      },
      "outputs": [
        {
          "output_type": "execute_result",
          "data": {
            "text/plain": [
              "   class                                               text  characters  \\\n",
              "0      0  Go until jurong point, crazy.. Available only ...         111   \n",
              "1      0                      Ok lar... Joking wif u oni...          29   \n",
              "2      1  Free entry in 2 a wkly comp to win FA Cup fina...         155   \n",
              "3      0  U dun say so early hor... U c already then say...          49   \n",
              "4      0  Nah I don't think he goes to usf, he lives aro...          61   \n",
              "\n",
              "   words  sentences                                         clean_text  \\\n",
              "0     23          2  go until jurong point crazy available only in ...   \n",
              "1      8          2                            ok lar joking wif u oni   \n",
              "2     37          2  free entry in a wkly comp to win fa cup final ...   \n",
              "3     13          1        u dun say so early hor u c already then say   \n",
              "4     15          1  nah i don t think he goes to usf he lives arou...   \n",
              "\n",
              "                                          token_text  \\\n",
              "0  [go, until, jurong, point, crazy, available, o...   \n",
              "1                     [ok, lar, joking, wif, u, oni]   \n",
              "2  [free, entry, in, a, wkly, comp, to, win, fa, ...   \n",
              "3  [u, dun, say, so, early, hor, u, c, already, t...   \n",
              "4  [nah, i, don, t, think, he, goes, to, usf, he,...   \n",
              "\n",
              "                                    nostopwords_text  \\\n",
              "0  [go, jurong, point, crazy, available, bugis, n...   \n",
              "1                     [ok, lar, joking, wif, u, oni]   \n",
              "2  [free, entry, wkly, comp, win, fa, cup, final,...   \n",
              "3      [u, dun, say, early, hor, u, c, already, say]   \n",
              "4     [nah, think, goes, usf, lives, around, though]   \n",
              "\n",
              "                                          final_text  \n",
              "0  go jurong point crazy available bugis n great ...  \n",
              "1                            ok lar joking wif u oni  \n",
              "2  free entry wkly comp win fa cup final tkts st ...  \n",
              "3                u dun say early hor u c already say  \n",
              "4             nah think goes usf lives around though  "
            ],
            "text/html": [
              "\n",
              "  <div id=\"df-8af137ce-3415-4415-8c92-547a9069bed9\">\n",
              "    <div class=\"colab-df-container\">\n",
              "      <div>\n",
              "<style scoped>\n",
              "    .dataframe tbody tr th:only-of-type {\n",
              "        vertical-align: middle;\n",
              "    }\n",
              "\n",
              "    .dataframe tbody tr th {\n",
              "        vertical-align: top;\n",
              "    }\n",
              "\n",
              "    .dataframe thead th {\n",
              "        text-align: right;\n",
              "    }\n",
              "</style>\n",
              "<table border=\"1\" class=\"dataframe\">\n",
              "  <thead>\n",
              "    <tr style=\"text-align: right;\">\n",
              "      <th></th>\n",
              "      <th>class</th>\n",
              "      <th>text</th>\n",
              "      <th>characters</th>\n",
              "      <th>words</th>\n",
              "      <th>sentences</th>\n",
              "      <th>clean_text</th>\n",
              "      <th>token_text</th>\n",
              "      <th>nostopwords_text</th>\n",
              "      <th>final_text</th>\n",
              "    </tr>\n",
              "  </thead>\n",
              "  <tbody>\n",
              "    <tr>\n",
              "      <th>0</th>\n",
              "      <td>0</td>\n",
              "      <td>Go until jurong point, crazy.. Available only ...</td>\n",
              "      <td>111</td>\n",
              "      <td>23</td>\n",
              "      <td>2</td>\n",
              "      <td>go until jurong point crazy available only in ...</td>\n",
              "      <td>[go, until, jurong, point, crazy, available, o...</td>\n",
              "      <td>[go, jurong, point, crazy, available, bugis, n...</td>\n",
              "      <td>go jurong point crazy available bugis n great ...</td>\n",
              "    </tr>\n",
              "    <tr>\n",
              "      <th>1</th>\n",
              "      <td>0</td>\n",
              "      <td>Ok lar... Joking wif u oni...</td>\n",
              "      <td>29</td>\n",
              "      <td>8</td>\n",
              "      <td>2</td>\n",
              "      <td>ok lar joking wif u oni</td>\n",
              "      <td>[ok, lar, joking, wif, u, oni]</td>\n",
              "      <td>[ok, lar, joking, wif, u, oni]</td>\n",
              "      <td>ok lar joking wif u oni</td>\n",
              "    </tr>\n",
              "    <tr>\n",
              "      <th>2</th>\n",
              "      <td>1</td>\n",
              "      <td>Free entry in 2 a wkly comp to win FA Cup fina...</td>\n",
              "      <td>155</td>\n",
              "      <td>37</td>\n",
              "      <td>2</td>\n",
              "      <td>free entry in a wkly comp to win fa cup final ...</td>\n",
              "      <td>[free, entry, in, a, wkly, comp, to, win, fa, ...</td>\n",
              "      <td>[free, entry, wkly, comp, win, fa, cup, final,...</td>\n",
              "      <td>free entry wkly comp win fa cup final tkts st ...</td>\n",
              "    </tr>\n",
              "    <tr>\n",
              "      <th>3</th>\n",
              "      <td>0</td>\n",
              "      <td>U dun say so early hor... U c already then say...</td>\n",
              "      <td>49</td>\n",
              "      <td>13</td>\n",
              "      <td>1</td>\n",
              "      <td>u dun say so early hor u c already then say</td>\n",
              "      <td>[u, dun, say, so, early, hor, u, c, already, t...</td>\n",
              "      <td>[u, dun, say, early, hor, u, c, already, say]</td>\n",
              "      <td>u dun say early hor u c already say</td>\n",
              "    </tr>\n",
              "    <tr>\n",
              "      <th>4</th>\n",
              "      <td>0</td>\n",
              "      <td>Nah I don't think he goes to usf, he lives aro...</td>\n",
              "      <td>61</td>\n",
              "      <td>15</td>\n",
              "      <td>1</td>\n",
              "      <td>nah i don t think he goes to usf he lives arou...</td>\n",
              "      <td>[nah, i, don, t, think, he, goes, to, usf, he,...</td>\n",
              "      <td>[nah, think, goes, usf, lives, around, though]</td>\n",
              "      <td>nah think goes usf lives around though</td>\n",
              "    </tr>\n",
              "  </tbody>\n",
              "</table>\n",
              "</div>\n",
              "      <button class=\"colab-df-convert\" onclick=\"convertToInteractive('df-8af137ce-3415-4415-8c92-547a9069bed9')\"\n",
              "              title=\"Convert this dataframe to an interactive table.\"\n",
              "              style=\"display:none;\">\n",
              "        \n",
              "  <svg xmlns=\"http://www.w3.org/2000/svg\" height=\"24px\"viewBox=\"0 0 24 24\"\n",
              "       width=\"24px\">\n",
              "    <path d=\"M0 0h24v24H0V0z\" fill=\"none\"/>\n",
              "    <path d=\"M18.56 5.44l.94 2.06.94-2.06 2.06-.94-2.06-.94-.94-2.06-.94 2.06-2.06.94zm-11 1L8.5 8.5l.94-2.06 2.06-.94-2.06-.94L8.5 2.5l-.94 2.06-2.06.94zm10 10l.94 2.06.94-2.06 2.06-.94-2.06-.94-.94-2.06-.94 2.06-2.06.94z\"/><path d=\"M17.41 7.96l-1.37-1.37c-.4-.4-.92-.59-1.43-.59-.52 0-1.04.2-1.43.59L10.3 9.45l-7.72 7.72c-.78.78-.78 2.05 0 2.83L4 21.41c.39.39.9.59 1.41.59.51 0 1.02-.2 1.41-.59l7.78-7.78 2.81-2.81c.8-.78.8-2.07 0-2.86zM5.41 20L4 18.59l7.72-7.72 1.47 1.35L5.41 20z\"/>\n",
              "  </svg>\n",
              "      </button>\n",
              "      \n",
              "  <style>\n",
              "    .colab-df-container {\n",
              "      display:flex;\n",
              "      flex-wrap:wrap;\n",
              "      gap: 12px;\n",
              "    }\n",
              "\n",
              "    .colab-df-convert {\n",
              "      background-color: #E8F0FE;\n",
              "      border: none;\n",
              "      border-radius: 50%;\n",
              "      cursor: pointer;\n",
              "      display: none;\n",
              "      fill: #1967D2;\n",
              "      height: 32px;\n",
              "      padding: 0 0 0 0;\n",
              "      width: 32px;\n",
              "    }\n",
              "\n",
              "    .colab-df-convert:hover {\n",
              "      background-color: #E2EBFA;\n",
              "      box-shadow: 0px 1px 2px rgba(60, 64, 67, 0.3), 0px 1px 3px 1px rgba(60, 64, 67, 0.15);\n",
              "      fill: #174EA6;\n",
              "    }\n",
              "\n",
              "    [theme=dark] .colab-df-convert {\n",
              "      background-color: #3B4455;\n",
              "      fill: #D2E3FC;\n",
              "    }\n",
              "\n",
              "    [theme=dark] .colab-df-convert:hover {\n",
              "      background-color: #434B5C;\n",
              "      box-shadow: 0px 1px 3px 1px rgba(0, 0, 0, 0.15);\n",
              "      filter: drop-shadow(0px 1px 2px rgba(0, 0, 0, 0.3));\n",
              "      fill: #FFFFFF;\n",
              "    }\n",
              "  </style>\n",
              "\n",
              "      <script>\n",
              "        const buttonEl =\n",
              "          document.querySelector('#df-8af137ce-3415-4415-8c92-547a9069bed9 button.colab-df-convert');\n",
              "        buttonEl.style.display =\n",
              "          google.colab.kernel.accessAllowed ? 'block' : 'none';\n",
              "\n",
              "        async function convertToInteractive(key) {\n",
              "          const element = document.querySelector('#df-8af137ce-3415-4415-8c92-547a9069bed9');\n",
              "          const dataTable =\n",
              "            await google.colab.kernel.invokeFunction('convertToInteractive',\n",
              "                                                     [key], {});\n",
              "          if (!dataTable) return;\n",
              "\n",
              "          const docLinkHtml = 'Like what you see? Visit the ' +\n",
              "            '<a target=\"_blank\" href=https://colab.research.google.com/notebooks/data_table.ipynb>data table notebook</a>'\n",
              "            + ' to learn more about interactive tables.';\n",
              "          element.innerHTML = '';\n",
              "          dataTable['output_type'] = 'display_data';\n",
              "          await google.colab.output.renderOutput(dataTable, element);\n",
              "          const docLink = document.createElement('div');\n",
              "          docLink.innerHTML = docLinkHtml;\n",
              "          element.appendChild(docLink);\n",
              "        }\n",
              "      </script>\n",
              "    </div>\n",
              "  </div>\n",
              "  "
            ]
          },
          "metadata": {},
          "execution_count": 131
        }
      ],
      "source": [
        "df[\"characters\"] = df[\"text\"].apply(len)\n",
        "df[\"words\"]=df.apply(lambda row: nltk.word_tokenize(row[\"text\"]), axis=1).apply(len)\n",
        "df[\"sentences\"]=df.apply(lambda row: nltk.sent_tokenize(row[\"text\"]), axis=1).apply(len)\n",
        "\n",
        "df.head()"
      ]
    },
    {
      "cell_type": "code",
      "source": [
        "# see the statistical informations of the dataset\n",
        "df.describe().T"
      ],
      "metadata": {
        "id": "YzMzzC1BjiY_",
        "outputId": "6e96ee77-0176-47d5-cca1-da21f82dc87f",
        "colab": {
          "base_uri": "https://localhost:8080/",
          "height": 175
        }
      },
      "id": "YzMzzC1BjiY_",
      "execution_count": 132,
      "outputs": [
        {
          "output_type": "execute_result",
          "data": {
            "text/plain": [
              "             count       mean        std  min   25%   50%    75%    max\n",
              "class       5572.0   0.134063   0.340751  0.0   0.0   0.0    0.0    1.0\n",
              "characters  5572.0  80.118808  59.690841  2.0  36.0  61.0  121.0  910.0\n",
              "words       5572.0  18.501256  13.637056  1.0   9.0  15.0   27.0  219.0\n",
              "sentences   5572.0   1.991565   1.501427  1.0   1.0   1.5    2.0   38.0"
            ],
            "text/html": [
              "\n",
              "  <div id=\"df-c24f071a-0308-4567-aef1-83865e44eec4\">\n",
              "    <div class=\"colab-df-container\">\n",
              "      <div>\n",
              "<style scoped>\n",
              "    .dataframe tbody tr th:only-of-type {\n",
              "        vertical-align: middle;\n",
              "    }\n",
              "\n",
              "    .dataframe tbody tr th {\n",
              "        vertical-align: top;\n",
              "    }\n",
              "\n",
              "    .dataframe thead th {\n",
              "        text-align: right;\n",
              "    }\n",
              "</style>\n",
              "<table border=\"1\" class=\"dataframe\">\n",
              "  <thead>\n",
              "    <tr style=\"text-align: right;\">\n",
              "      <th></th>\n",
              "      <th>count</th>\n",
              "      <th>mean</th>\n",
              "      <th>std</th>\n",
              "      <th>min</th>\n",
              "      <th>25%</th>\n",
              "      <th>50%</th>\n",
              "      <th>75%</th>\n",
              "      <th>max</th>\n",
              "    </tr>\n",
              "  </thead>\n",
              "  <tbody>\n",
              "    <tr>\n",
              "      <th>class</th>\n",
              "      <td>5572.0</td>\n",
              "      <td>0.134063</td>\n",
              "      <td>0.340751</td>\n",
              "      <td>0.0</td>\n",
              "      <td>0.0</td>\n",
              "      <td>0.0</td>\n",
              "      <td>0.0</td>\n",
              "      <td>1.0</td>\n",
              "    </tr>\n",
              "    <tr>\n",
              "      <th>characters</th>\n",
              "      <td>5572.0</td>\n",
              "      <td>80.118808</td>\n",
              "      <td>59.690841</td>\n",
              "      <td>2.0</td>\n",
              "      <td>36.0</td>\n",
              "      <td>61.0</td>\n",
              "      <td>121.0</td>\n",
              "      <td>910.0</td>\n",
              "    </tr>\n",
              "    <tr>\n",
              "      <th>words</th>\n",
              "      <td>5572.0</td>\n",
              "      <td>18.501256</td>\n",
              "      <td>13.637056</td>\n",
              "      <td>1.0</td>\n",
              "      <td>9.0</td>\n",
              "      <td>15.0</td>\n",
              "      <td>27.0</td>\n",
              "      <td>219.0</td>\n",
              "    </tr>\n",
              "    <tr>\n",
              "      <th>sentences</th>\n",
              "      <td>5572.0</td>\n",
              "      <td>1.991565</td>\n",
              "      <td>1.501427</td>\n",
              "      <td>1.0</td>\n",
              "      <td>1.0</td>\n",
              "      <td>1.5</td>\n",
              "      <td>2.0</td>\n",
              "      <td>38.0</td>\n",
              "    </tr>\n",
              "  </tbody>\n",
              "</table>\n",
              "</div>\n",
              "      <button class=\"colab-df-convert\" onclick=\"convertToInteractive('df-c24f071a-0308-4567-aef1-83865e44eec4')\"\n",
              "              title=\"Convert this dataframe to an interactive table.\"\n",
              "              style=\"display:none;\">\n",
              "        \n",
              "  <svg xmlns=\"http://www.w3.org/2000/svg\" height=\"24px\"viewBox=\"0 0 24 24\"\n",
              "       width=\"24px\">\n",
              "    <path d=\"M0 0h24v24H0V0z\" fill=\"none\"/>\n",
              "    <path d=\"M18.56 5.44l.94 2.06.94-2.06 2.06-.94-2.06-.94-.94-2.06-.94 2.06-2.06.94zm-11 1L8.5 8.5l.94-2.06 2.06-.94-2.06-.94L8.5 2.5l-.94 2.06-2.06.94zm10 10l.94 2.06.94-2.06 2.06-.94-2.06-.94-.94-2.06-.94 2.06-2.06.94z\"/><path d=\"M17.41 7.96l-1.37-1.37c-.4-.4-.92-.59-1.43-.59-.52 0-1.04.2-1.43.59L10.3 9.45l-7.72 7.72c-.78.78-.78 2.05 0 2.83L4 21.41c.39.39.9.59 1.41.59.51 0 1.02-.2 1.41-.59l7.78-7.78 2.81-2.81c.8-.78.8-2.07 0-2.86zM5.41 20L4 18.59l7.72-7.72 1.47 1.35L5.41 20z\"/>\n",
              "  </svg>\n",
              "      </button>\n",
              "      \n",
              "  <style>\n",
              "    .colab-df-container {\n",
              "      display:flex;\n",
              "      flex-wrap:wrap;\n",
              "      gap: 12px;\n",
              "    }\n",
              "\n",
              "    .colab-df-convert {\n",
              "      background-color: #E8F0FE;\n",
              "      border: none;\n",
              "      border-radius: 50%;\n",
              "      cursor: pointer;\n",
              "      display: none;\n",
              "      fill: #1967D2;\n",
              "      height: 32px;\n",
              "      padding: 0 0 0 0;\n",
              "      width: 32px;\n",
              "    }\n",
              "\n",
              "    .colab-df-convert:hover {\n",
              "      background-color: #E2EBFA;\n",
              "      box-shadow: 0px 1px 2px rgba(60, 64, 67, 0.3), 0px 1px 3px 1px rgba(60, 64, 67, 0.15);\n",
              "      fill: #174EA6;\n",
              "    }\n",
              "\n",
              "    [theme=dark] .colab-df-convert {\n",
              "      background-color: #3B4455;\n",
              "      fill: #D2E3FC;\n",
              "    }\n",
              "\n",
              "    [theme=dark] .colab-df-convert:hover {\n",
              "      background-color: #434B5C;\n",
              "      box-shadow: 0px 1px 3px 1px rgba(0, 0, 0, 0.15);\n",
              "      filter: drop-shadow(0px 1px 2px rgba(0, 0, 0, 0.3));\n",
              "      fill: #FFFFFF;\n",
              "    }\n",
              "  </style>\n",
              "\n",
              "      <script>\n",
              "        const buttonEl =\n",
              "          document.querySelector('#df-c24f071a-0308-4567-aef1-83865e44eec4 button.colab-df-convert');\n",
              "        buttonEl.style.display =\n",
              "          google.colab.kernel.accessAllowed ? 'block' : 'none';\n",
              "\n",
              "        async function convertToInteractive(key) {\n",
              "          const element = document.querySelector('#df-c24f071a-0308-4567-aef1-83865e44eec4');\n",
              "          const dataTable =\n",
              "            await google.colab.kernel.invokeFunction('convertToInteractive',\n",
              "                                                     [key], {});\n",
              "          if (!dataTable) return;\n",
              "\n",
              "          const docLinkHtml = 'Like what you see? Visit the ' +\n",
              "            '<a target=\"_blank\" href=https://colab.research.google.com/notebooks/data_table.ipynb>data table notebook</a>'\n",
              "            + ' to learn more about interactive tables.';\n",
              "          element.innerHTML = '';\n",
              "          dataTable['output_type'] = 'display_data';\n",
              "          await google.colab.output.renderOutput(dataTable, element);\n",
              "          const docLink = document.createElement('div');\n",
              "          docLink.innerHTML = docLinkHtml;\n",
              "          element.appendChild(docLink);\n",
              "        }\n",
              "      </script>\n",
              "    </div>\n",
              "  </div>\n",
              "  "
            ]
          },
          "metadata": {},
          "execution_count": 132
        }
      ]
    },
    {
      "cell_type": "code",
      "execution_count": 133,
      "id": "9e290b6c",
      "metadata": {
        "id": "9e290b6c",
        "outputId": "a8a6a43d-496a-4170-ff38-6e7adb7bfdda",
        "colab": {
          "base_uri": "https://localhost:8080/",
          "height": 567
        }
      },
      "outputs": [
        {
          "output_type": "display_data",
          "data": {
            "text/plain": [
              "<Figure size 864x576 with 0 Axes>"
            ]
          },
          "metadata": {}
        },
        {
          "output_type": "display_data",
          "data": {
            "text/plain": [
              "<Figure size 582.375x540 with 12 Axes>"
            ],
            "image/png": "[encoded data removed]"
          },
          "metadata": {
            "needs_background": "light"
          }
        }
      ],
      "source": [
        "plt.figure(figsize=(12,8))\n",
        "fg = sns.pairplot(data=df, hue=\"class\",palette='bright')\n",
        "plt.show(fg)"
      ]
    },
    {
      "cell_type": "markdown",
      "id": "f07b6430",
      "metadata": {
        "id": "f07b6430"
      },
      "source": [
        "### Cleaning text"
      ]
    },
    {
      "cell_type": "markdown",
      "id": "4638c15a",
      "metadata": {
        "id": "4638c15a"
      },
      "source": [
        "In the dataset, text column includes special characters, and non-alphabetic characters. For the better accuracy the should be clean."
      ]
    },
    {
      "cell_type": "code",
      "execution_count": 110,
      "id": "ddd27927",
      "metadata": {
        "id": "ddd27927",
        "outputId": "3d80c29d-26cc-4b3c-f2f8-722d057b17b5",
        "colab": {
          "base_uri": "https://localhost:8080/"
        }
      },
      "outputs": [
        {
          "output_type": "stream",
          "name": "stdout",
          "text": [
            "Go until jurong point, crazy.. Available only in bugis n great world la e buffet... Cine there got amore wat...\n",
            "Ok lar... Joking wif u oni...\n",
            "Free entry in 2 a wkly comp to win FA Cup final tkts 21st May 2005. Text FA to 87121 to receive entry question(std txt rate)T&C's apply 08452810075over18's\n",
            "U dun say so early hor... U c already then say...\n",
            "Nah I don't think he goes to usf, he lives around here though\n",
            "FreeMsg Hey there darling it's been 3 week's now and no word back! I'd like some fun you up for it still? Tb ok! XxX std chgs to send, å£1.50 to rcv\n",
            "Even my brother is not like to speak with me. They treat me like aids patent.\n",
            "As per your request 'Melle Melle (Oru Minnaminunginte Nurungu Vettam)' has been set as your callertune for all Callers. Press *9 to copy your friends Callertune\n",
            "WINNER!! As a valued network customer you have been selected to receivea å£900 prize reward! To claim call 09061701461. Claim code KL341. Valid 12 hours only.\n",
            "Had your mobile 11 months or more? U R entitled to Update to the latest colour mobiles with camera for Free! Call The Mobile Update Co FREE on 08002986030\n"
          ]
        }
      ],
      "source": [
        "print(*df[\"text\"][:10], sep = \"\\n\")"
      ]
    },
    {
      "cell_type": "code",
      "execution_count": 79,
      "id": "991fb0dd",
      "metadata": {
        "id": "991fb0dd"
      },
      "outputs": [],
      "source": [
        "def Clean(Text):\n",
        "    #using regular expression to remove not necessary characters and make lowercase\n",
        "    clean_text = re.sub('[^a-zA-Z]', ' ', Text).lower()\n",
        "    return ' '.join(clean_text.split()) #remove multiple whitespaces into single and return"
      ]
    },
    {
      "cell_type": "code",
      "execution_count": 109,
      "id": "88b84b33",
      "metadata": {
        "scrolled": true,
        "id": "88b84b33",
        "outputId": "b60cbf66-560b-43bd-a2dd-3871f2b21c69",
        "colab": {
          "base_uri": "https://localhost:8080/"
        }
      },
      "outputs": [
        {
          "output_type": "stream",
          "name": "stdout",
          "text": [
            "go until jurong point crazy available only in bugis n great world la e buffet cine there got amore wat\n",
            "ok lar joking wif u oni\n",
            "free entry in a wkly comp to win fa cup final tkts st may text fa to to receive entry question std txt rate t c s apply over s\n",
            "u dun say so early hor u c already then say\n",
            "nah i don t think he goes to usf he lives around here though\n",
            "freemsg hey there darling it s been week s now and no word back i d like some fun you up for it still tb ok xxx std chgs to send to rcv\n",
            "even my brother is not like to speak with me they treat me like aids patent\n",
            "as per your request melle melle oru minnaminunginte nurungu vettam has been set as your callertune for all callers press to copy your friends callertune\n",
            "winner as a valued network customer you have been selected to receivea prize reward to claim call claim code kl valid hours only\n",
            "had your mobile months or more u r entitled to update to the latest colour mobiles with camera for free call the mobile update co free on\n"
          ]
        }
      ],
      "source": [
        "df[\"clean_text\"] = df[\"text\"].apply(Clean)\n",
        "print(*df[\"clean_text\"][:10], sep = \"\\n\")"
      ]
    },
    {
      "cell_type": "markdown",
      "id": "b718ed30",
      "metadata": {
        "id": "b718ed30"
      },
      "source": [
        "### Token set "
      ]
    },
    {
      "cell_type": "markdown",
      "id": "2e497be4",
      "metadata": {
        "id": "2e497be4"
      },
      "source": [
        "Our clean text should be tokenized for removing stopwords (not necessary information for model training)"
      ]
    },
    {
      "cell_type": "code",
      "execution_count": 104,
      "id": "b4589146",
      "metadata": {
        "id": "b4589146",
        "outputId": "d5f5b69b-80e1-4e32-c47b-db6ec871f76d",
        "colab": {
          "base_uri": "https://localhost:8080/"
        }
      },
      "outputs": [
        {
          "output_type": "stream",
          "name": "stdout",
          "text": [
            "['go', 'until', 'jurong', 'point', 'crazy', 'available', 'only', 'in', 'bugis', 'n', 'great', 'world', 'la', 'e', 'buffet', 'cine', 'there', 'got', 'amore', 'wat']\n",
            "['ok', 'lar', 'joking', 'wif', 'u', 'oni']\n",
            "['free', 'entry', 'in', 'a', 'wkly', 'comp', 'to', 'win', 'fa', 'cup', 'final', 'tkts', 'st', 'may', 'text', 'fa', 'to', 'to', 'receive', 'entry', 'question', 'std', 'txt', 'rate', 't', 'c', 's', 'apply', 'over', 's']\n",
            "['u', 'dun', 'say', 'so', 'early', 'hor', 'u', 'c', 'already', 'then', 'say']\n",
            "['nah', 'i', 'don', 't', 'think', 'he', 'goes', 'to', 'usf', 'he', 'lives', 'around', 'here', 'though']\n",
            "['freemsg', 'hey', 'there', 'darling', 'it', 's', 'been', 'week', 's', 'now', 'and', 'no', 'word', 'back', 'i', 'd', 'like', 'some', 'fun', 'you', 'up', 'for', 'it', 'still', 'tb', 'ok', 'xxx', 'std', 'chgs', 'to', 'send', 'to', 'rcv']\n",
            "['even', 'my', 'brother', 'is', 'not', 'like', 'to', 'speak', 'with', 'me', 'they', 'treat', 'me', 'like', 'aids', 'patent']\n",
            "['as', 'per', 'your', 'request', 'melle', 'melle', 'oru', 'minnaminunginte', 'nurungu', 'vettam', 'has', 'been', 'set', 'as', 'your', 'callertune', 'for', 'all', 'callers', 'press', 'to', 'copy', 'your', 'friends', 'callertune']\n",
            "['winner', 'as', 'a', 'valued', 'network', 'customer', 'you', 'have', 'been', 'selected', 'to', 'receivea', 'prize', 'reward', 'to', 'claim', 'call', 'claim', 'code', 'kl', 'valid', 'hours', 'only']\n",
            "['had', 'your', 'mobile', 'months', 'or', 'more', 'u', 'r', 'entitled', 'to', 'update', 'to', 'the', 'latest', 'colour', 'mobiles', 'with', 'camera', 'for', 'free', 'call', 'the', 'mobile', 'update', 'co', 'free', 'on']\n"
          ]
        }
      ],
      "source": [
        "df[\"token_text\"]=df.apply(lambda row: nltk.word_tokenize(row[\"clean_text\"]), axis=1)\n",
        "print(*df[\"token_text\"][:10], sep = \"\\n\")"
      ]
    },
    {
      "cell_type": "markdown",
      "id": "8e38699c",
      "metadata": {
        "id": "8e38699c"
      },
      "source": [
        "### Remove stopwords\n",
        "\n",
        " "
      ]
    },
    {
      "cell_type": "code",
      "source": [
        "from nltk.corpus import stopwords\n",
        "eng_stopwords = stopwords.words('english')"
      ],
      "metadata": {
        "id": "QnmZ7mfwrfjm"
      },
      "id": "QnmZ7mfwrfjm",
      "execution_count": 107,
      "outputs": []
    },
    {
      "cell_type": "code",
      "source": [
        "eng_stopwords[:10]"
      ],
      "metadata": {
        "id": "nlRuKaM1sF8n",
        "outputId": "d93dbb76-1f71-4e5b-def8-8165dcbbdcf3",
        "colab": {
          "base_uri": "https://localhost:8080/"
        }
      },
      "id": "nlRuKaM1sF8n",
      "execution_count": 96,
      "outputs": [
        {
          "output_type": "execute_result",
          "data": {
            "text/plain": [
              "['i', 'me', 'my', 'myself', 'we', 'our', 'ours', 'ourselves', 'you', \"you're\"]"
            ]
          },
          "metadata": {},
          "execution_count": 96
        }
      ]
    },
    {
      "cell_type": "markdown",
      "id": "47d3dc49",
      "metadata": {
        "id": "47d3dc49"
      },
      "source": [
        "These words are not make sense for the training section and it should be removed for the better accuracy of the models."
      ]
    },
    {
      "cell_type": "code",
      "execution_count": 108,
      "id": "dabee4fa",
      "metadata": {
        "id": "dabee4fa",
        "outputId": "927e3569-5b20-46b8-f678-4dfd92bdb6ef",
        "colab": {
          "base_uri": "https://localhost:8080/"
        }
      },
      "outputs": [
        {
          "output_type": "stream",
          "name": "stdout",
          "text": [
            "['go', 'jurong', 'point', 'crazy', 'available', 'bugis', 'n', 'great', 'world', 'la', 'e', 'buffet', 'cine', 'got', 'amore', 'wat']\n",
            "['ok', 'lar', 'joking', 'wif', 'u', 'oni']\n",
            "['free', 'entry', 'wkly', 'comp', 'win', 'fa', 'cup', 'final', 'tkts', 'st', 'may', 'text', 'fa', 'receive', 'entry', 'question', 'std', 'txt', 'rate', 'c', 'apply']\n",
            "['u', 'dun', 'say', 'early', 'hor', 'u', 'c', 'already', 'say']\n",
            "['nah', 'think', 'goes', 'usf', 'lives', 'around', 'though']\n",
            "['freemsg', 'hey', 'darling', 'week', 'word', 'back', 'like', 'fun', 'still', 'tb', 'ok', 'xxx', 'std', 'chgs', 'send', 'rcv']\n",
            "['even', 'brother', 'like', 'speak', 'treat', 'like', 'aids', 'patent']\n",
            "['per', 'request', 'melle', 'melle', 'oru', 'minnaminunginte', 'nurungu', 'vettam', 'set', 'callertune', 'callers', 'press', 'copy', 'friends', 'callertune']\n",
            "['winner', 'valued', 'network', 'customer', 'selected', 'receivea', 'prize', 'reward', 'claim', 'call', 'claim', 'code', 'kl', 'valid', 'hours']\n",
            "['mobile', 'months', 'u', 'r', 'entitled', 'update', 'latest', 'colour', 'mobiles', 'camera', 'free', 'call', 'mobile', 'update', 'co', 'free']\n"
          ]
        }
      ],
      "source": [
        "def remove_eng_stopwords(Text):\n",
        "  return [word for word in Text if word not in eng_stopwords]\n",
        "\n",
        "df[\"nostopwords_text\"] = df[\"token_text\"].apply(remove_eng_stopwords)\n",
        "print(*df[\"nostopwords_text\"][:10], sep = \"\\n\")"
      ]
    },
    {
      "cell_type": "markdown",
      "id": "7eb9b25b",
      "metadata": {
        "id": "7eb9b25b"
      },
      "source": [
        "### Make vector and Label Encoding"
      ]
    },
    {
      "cell_type": "code",
      "source": [
        "def Combine(Text):        \n",
        "    return ' '.join(Text)\n",
        "\n",
        "df[\"final_text\"] = df[\"nostopwords_text\"].apply(Combine)"
      ],
      "metadata": {
        "id": "xC5Td2Lhx9gc"
      },
      "id": "xC5Td2Lhx9gc",
      "execution_count": 113,
      "outputs": []
    },
    {
      "cell_type": "code",
      "execution_count": 127,
      "id": "665ff763",
      "metadata": {
        "id": "665ff763",
        "outputId": "8e5f9813-ad70-49b2-c571-5a136c60dd3b",
        "colab": {
          "base_uri": "https://localhost:8080/"
        }
      },
      "outputs": [
        {
          "output_type": "stream",
          "name": "stdout",
          "text": [
            "float64\n",
            "(5572, 7542)\n"
          ]
        }
      ],
      "source": [
        "#Transform text data into number vectors\n",
        "tfidf = TfidfVectorizer()\n",
        "X = tfidf.fit_transform(df[\"final_text\"]).toarray()\n",
        "print(X.dtype)\n",
        "print(X.shape)"
      ]
    },
    {
      "cell_type": "code",
      "execution_count": 122,
      "id": "7262a9e4",
      "metadata": {
        "id": "7262a9e4"
      },
      "outputs": [],
      "source": [
        "#Label encode the Target and use it as y\n",
        "label_encoder = LabelEncoder()\n",
        "df[\"class\"] = label_encoder.fit_transform(df[\"class\"])"
      ]
    },
    {
      "cell_type": "code",
      "execution_count": 125,
      "id": "a743b555",
      "metadata": {
        "id": "a743b555",
        "outputId": "b890ba9c-c6f6-4c61-9908-7a607e8f0f80",
        "colab": {
          "base_uri": "https://localhost:8080/",
          "height": 424
        }
      },
      "outputs": [
        {
          "output_type": "execute_result",
          "data": {
            "text/plain": [
              "   class                                               text  characters  \\\n",
              "0      0  Go until jurong point, crazy.. Available only ...         111   \n",
              "1      0                      Ok lar... Joking wif u oni...          29   \n",
              "2      1  Free entry in 2 a wkly comp to win FA Cup fina...         155   \n",
              "3      0  U dun say so early hor... U c already then say...          49   \n",
              "4      0  Nah I don't think he goes to usf, he lives aro...          61   \n",
              "\n",
              "   words  sentences                                         clean_text  \\\n",
              "0     23          2  go until jurong point crazy available only in ...   \n",
              "1      8          2                            ok lar joking wif u oni   \n",
              "2     37          2  free entry in a wkly comp to win fa cup final ...   \n",
              "3     13          1        u dun say so early hor u c already then say   \n",
              "4     15          1  nah i don t think he goes to usf he lives arou...   \n",
              "\n",
              "                                          token_text  \\\n",
              "0  [go, until, jurong, point, crazy, available, o...   \n",
              "1                     [ok, lar, joking, wif, u, oni]   \n",
              "2  [free, entry, in, a, wkly, comp, to, win, fa, ...   \n",
              "3  [u, dun, say, so, early, hor, u, c, already, t...   \n",
              "4  [nah, i, don, t, think, he, goes, to, usf, he,...   \n",
              "\n",
              "                                    nostopwords_text  \\\n",
              "0  [go, jurong, point, crazy, available, bugis, n...   \n",
              "1                     [ok, lar, joking, wif, u, oni]   \n",
              "2  [free, entry, wkly, comp, win, fa, cup, final,...   \n",
              "3      [u, dun, say, early, hor, u, c, already, say]   \n",
              "4     [nah, think, goes, usf, lives, around, though]   \n",
              "\n",
              "                                          final_text  \n",
              "0  go jurong point crazy available bugis n great ...  \n",
              "1                            ok lar joking wif u oni  \n",
              "2  free entry wkly comp win fa cup final tkts st ...  \n",
              "3                u dun say early hor u c already say  \n",
              "4             nah think goes usf lives around though  "
            ],
            "text/html": [
              "\n",
              "  <div id=\"df-7582a3b1-31c8-4299-9c0d-d82e5d8774d6\">\n",
              "    <div class=\"colab-df-container\">\n",
              "      <div>\n",
              "<style scoped>\n",
              "    .dataframe tbody tr th:only-of-type {\n",
              "        vertical-align: middle;\n",
              "    }\n",
              "\n",
              "    .dataframe tbody tr th {\n",
              "        vertical-align: top;\n",
              "    }\n",
              "\n",
              "    .dataframe thead th {\n",
              "        text-align: right;\n",
              "    }\n",
              "</style>\n",
              "<table border=\"1\" class=\"dataframe\">\n",
              "  <thead>\n",
              "    <tr style=\"text-align: right;\">\n",
              "      <th></th>\n",
              "      <th>class</th>\n",
              "      <th>text</th>\n",
              "      <th>characters</th>\n",
              "      <th>words</th>\n",
              "      <th>sentences</th>\n",
              "      <th>clean_text</th>\n",
              "      <th>token_text</th>\n",
              "      <th>nostopwords_text</th>\n",
              "      <th>final_text</th>\n",
              "    </tr>\n",
              "  </thead>\n",
              "  <tbody>\n",
              "    <tr>\n",
              "      <th>0</th>\n",
              "      <td>0</td>\n",
              "      <td>Go until jurong point, crazy.. Available only ...</td>\n",
              "      <td>111</td>\n",
              "      <td>23</td>\n",
              "      <td>2</td>\n",
              "      <td>go until jurong point crazy available only in ...</td>\n",
              "      <td>[go, until, jurong, point, crazy, available, o...</td>\n",
              "      <td>[go, jurong, point, crazy, available, bugis, n...</td>\n",
              "      <td>go jurong point crazy available bugis n great ...</td>\n",
              "    </tr>\n",
              "    <tr>\n",
              "      <th>1</th>\n",
              "      <td>0</td>\n",
              "      <td>Ok lar... Joking wif u oni...</td>\n",
              "      <td>29</td>\n",
              "      <td>8</td>\n",
              "      <td>2</td>\n",
              "      <td>ok lar joking wif u oni</td>\n",
              "      <td>[ok, lar, joking, wif, u, oni]</td>\n",
              "      <td>[ok, lar, joking, wif, u, oni]</td>\n",
              "      <td>ok lar joking wif u oni</td>\n",
              "    </tr>\n",
              "    <tr>\n",
              "      <th>2</th>\n",
              "      <td>1</td>\n",
              "      <td>Free entry in 2 a wkly comp to win FA Cup fina...</td>\n",
              "      <td>155</td>\n",
              "      <td>37</td>\n",
              "      <td>2</td>\n",
              "      <td>free entry in a wkly comp to win fa cup final ...</td>\n",
              "      <td>[free, entry, in, a, wkly, comp, to, win, fa, ...</td>\n",
              "      <td>[free, entry, wkly, comp, win, fa, cup, final,...</td>\n",
              "      <td>free entry wkly comp win fa cup final tkts st ...</td>\n",
              "    </tr>\n",
              "    <tr>\n",
              "      <th>3</th>\n",
              "      <td>0</td>\n",
              "      <td>U dun say so early hor... U c already then say...</td>\n",
              "      <td>49</td>\n",
              "      <td>13</td>\n",
              "      <td>1</td>\n",
              "      <td>u dun say so early hor u c already then say</td>\n",
              "      <td>[u, dun, say, so, early, hor, u, c, already, t...</td>\n",
              "      <td>[u, dun, say, early, hor, u, c, already, say]</td>\n",
              "      <td>u dun say early hor u c already say</td>\n",
              "    </tr>\n",
              "    <tr>\n",
              "      <th>4</th>\n",
              "      <td>0</td>\n",
              "      <td>Nah I don't think he goes to usf, he lives aro...</td>\n",
              "      <td>61</td>\n",
              "      <td>15</td>\n",
              "      <td>1</td>\n",
              "      <td>nah i don t think he goes to usf he lives arou...</td>\n",
              "      <td>[nah, i, don, t, think, he, goes, to, usf, he,...</td>\n",
              "      <td>[nah, think, goes, usf, lives, around, though]</td>\n",
              "      <td>nah think goes usf lives around though</td>\n",
              "    </tr>\n",
              "  </tbody>\n",
              "</table>\n",
              "</div>\n",
              "      <button class=\"colab-df-convert\" onclick=\"convertToInteractive('df-7582a3b1-31c8-4299-9c0d-d82e5d8774d6')\"\n",
              "              title=\"Convert this dataframe to an interactive table.\"\n",
              "              style=\"display:none;\">\n",
              "        \n",
              "  <svg xmlns=\"http://www.w3.org/2000/svg\" height=\"24px\"viewBox=\"0 0 24 24\"\n",
              "       width=\"24px\">\n",
              "    <path d=\"M0 0h24v24H0V0z\" fill=\"none\"/>\n",
              "    <path d=\"M18.56 5.44l.94 2.06.94-2.06 2.06-.94-2.06-.94-.94-2.06-.94 2.06-2.06.94zm-11 1L8.5 8.5l.94-2.06 2.06-.94-2.06-.94L8.5 2.5l-.94 2.06-2.06.94zm10 10l.94 2.06.94-2.06 2.06-.94-2.06-.94-.94-2.06-.94 2.06-2.06.94z\"/><path d=\"M17.41 7.96l-1.37-1.37c-.4-.4-.92-.59-1.43-.59-.52 0-1.04.2-1.43.59L10.3 9.45l-7.72 7.72c-.78.78-.78 2.05 0 2.83L4 21.41c.39.39.9.59 1.41.59.51 0 1.02-.2 1.41-.59l7.78-7.78 2.81-2.81c.8-.78.8-2.07 0-2.86zM5.41 20L4 18.59l7.72-7.72 1.47 1.35L5.41 20z\"/>\n",
              "  </svg>\n",
              "      </button>\n",
              "      \n",
              "  <style>\n",
              "    .colab-df-container {\n",
              "      display:flex;\n",
              "      flex-wrap:wrap;\n",
              "      gap: 12px;\n",
              "    }\n",
              "\n",
              "    .colab-df-convert {\n",
              "      background-color: #E8F0FE;\n",
              "      border: none;\n",
              "      border-radius: 50%;\n",
              "      cursor: pointer;\n",
              "      display: none;\n",
              "      fill: #1967D2;\n",
              "      height: 32px;\n",
              "      padding: 0 0 0 0;\n",
              "      width: 32px;\n",
              "    }\n",
              "\n",
              "    .colab-df-convert:hover {\n",
              "      background-color: #E2EBFA;\n",
              "      box-shadow: 0px 1px 2px rgba(60, 64, 67, 0.3), 0px 1px 3px 1px rgba(60, 64, 67, 0.15);\n",
              "      fill: #174EA6;\n",
              "    }\n",
              "\n",
              "    [theme=dark] .colab-df-convert {\n",
              "      background-color: #3B4455;\n",
              "      fill: #D2E3FC;\n",
              "    }\n",
              "\n",
              "    [theme=dark] .colab-df-convert:hover {\n",
              "      background-color: #434B5C;\n",
              "      box-shadow: 0px 1px 3px 1px rgba(0, 0, 0, 0.15);\n",
              "      filter: drop-shadow(0px 1px 2px rgba(0, 0, 0, 0.3));\n",
              "      fill: #FFFFFF;\n",
              "    }\n",
              "  </style>\n",
              "\n",
              "      <script>\n",
              "        const buttonEl =\n",
              "          document.querySelector('#df-7582a3b1-31c8-4299-9c0d-d82e5d8774d6 button.colab-df-convert');\n",
              "        buttonEl.style.display =\n",
              "          google.colab.kernel.accessAllowed ? 'block' : 'none';\n",
              "\n",
              "        async function convertToInteractive(key) {\n",
              "          const element = document.querySelector('#df-7582a3b1-31c8-4299-9c0d-d82e5d8774d6');\n",
              "          const dataTable =\n",
              "            await google.colab.kernel.invokeFunction('convertToInteractive',\n",
              "                                                     [key], {});\n",
              "          if (!dataTable) return;\n",
              "\n",
              "          const docLinkHtml = 'Like what you see? Visit the ' +\n",
              "            '<a target=\"_blank\" href=https://colab.research.google.com/notebooks/data_table.ipynb>data table notebook</a>'\n",
              "            + ' to learn more about interactive tables.';\n",
              "          element.innerHTML = '';\n",
              "          dataTable['output_type'] = 'display_data';\n",
              "          await google.colab.output.renderOutput(dataTable, element);\n",
              "          const docLink = document.createElement('div');\n",
              "          docLink.innerHTML = docLinkHtml;\n",
              "          element.appendChild(docLink);\n",
              "        }\n",
              "      </script>\n",
              "    </div>\n",
              "  </div>\n",
              "  "
            ]
          },
          "metadata": {},
          "execution_count": 125
        }
      ],
      "source": [
        "df.head()"
      ]
    },
    {
      "cell_type": "markdown",
      "id": "32aa5c7a",
      "metadata": {
        "id": "32aa5c7a"
      },
      "source": [
        "## MODEL BUILDING "
      ]
    },
    {
      "cell_type": "markdown",
      "id": "81df05c0",
      "metadata": {
        "id": "81df05c0"
      },
      "source": [
        "Spliting train (70%) and test data (30%) "
      ]
    },
    {
      "cell_type": "code",
      "execution_count": 128,
      "id": "69702e48",
      "metadata": {
        "id": "69702e48"
      },
      "outputs": [],
      "source": [
        "y = df[\"class\"] \n",
        "\n",
        "X_train, X_test, y_train, y_test = train_test_split(X, y, test_size=0.3, random_state=101)"
      ]
    },
    {
      "cell_type": "code",
      "execution_count": 129,
      "id": "90f26bf7",
      "metadata": {
        "id": "90f26bf7",
        "outputId": "03b18cba-f5d5-498c-cc0e-e851dc920362",
        "colab": {
          "base_uri": "https://localhost:8080/"
        }
      },
      "outputs": [
        {
          "output_type": "stream",
          "name": "stdout",
          "text": [
            "(3900, 7542)\n",
            "(1672, 7542)\n"
          ]
        }
      ],
      "source": [
        "print(X_train.shape)\n",
        "print(X_test.shape)"
      ]
    },
    {
      "cell_type": "markdown",
      "source": [
        "### Naive Bayes Classifier\n",
        "\n",
        "Source: https://scikit-learn.org/stable/modules/naive_bayes.html#multinomial-naive-bayes\n",
        "\n",
        "![image.png](data:image/png;base64,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)"
      ],
      "metadata": {
        "id": "yyZIYyIO0OhI"
      },
      "id": "yyZIYyIO0OhI"
    },
    {
      "cell_type": "code",
      "source": [
        "#alpha: float, default=1.0\n",
        "#fit_prior: bool, default=True\n",
        "\n",
        "model_MNB = MultinomialNB(alpha=0.5)\n",
        "model_MNB.fit(X_train, y_train)\n",
        "predict_MNB = model_MNB.predict(X_test)"
      ],
      "metadata": {
        "id": "iu2j4G-zz8l1"
      },
      "id": "iu2j4G-zz8l1",
      "execution_count": 176,
      "outputs": []
    },
    {
      "cell_type": "code",
      "source": [
        "cm_MNB = confusion_matrix(y_test, predict_MNB)\n",
        "sns.heatmap(cm_MNB, annot=True, fmt='d', cmap='Oranges') "
      ],
      "metadata": {
        "id": "FBYuzv9t9uqT",
        "outputId": "839b6cf3-d577-4e50-b6aa-9410f399c5ae",
        "colab": {
          "base_uri": "https://localhost:8080/",
          "height": 282
        }
      },
      "id": "FBYuzv9t9uqT",
      "execution_count": 177,
      "outputs": [
        {
          "output_type": "execute_result",
          "data": {
            "text/plain": [
              "<matplotlib.axes._subplots.AxesSubplot at 0x7f5e1063b610>"
            ]
          },
          "metadata": {},
          "execution_count": 177
        },
        {
          "output_type": "display_data",
          "data": {
            "text/plain": [
              "<Figure size 432x288 with 2 Axes>"
            ],
            "image/png": "[encoded data removed]"
          },
          "metadata": {
            "needs_background": "light"
          }
        }
      ]
    },
    {
      "cell_type": "code",
      "source": [
        "print(classification_report(y_test, predict_MNB))"
      ],
      "metadata": {
        "id": "bTONfjlo_d5A",
        "outputId": "0a433488-e10f-49fc-8dbc-042e83bc3cb4",
        "colab": {
          "base_uri": "https://localhost:8080/"
        }
      },
      "id": "bTONfjlo_d5A",
      "execution_count": 178,
      "outputs": [
        {
          "output_type": "stream",
          "name": "stdout",
          "text": [
            "              precision    recall  f1-score   support\n",
            "\n",
            "           0       0.98      1.00      0.99      1464\n",
            "           1       0.97      0.87      0.92       208\n",
            "\n",
            "    accuracy                           0.98      1672\n",
            "   macro avg       0.98      0.93      0.95      1672\n",
            "weighted avg       0.98      0.98      0.98      1672\n",
            "\n"
          ]
        }
      ]
    },
    {
      "cell_type": "code",
      "source": [
        "accuracy_MNB = model_MNB.score(X_test, y_test)\n",
        "precision_score_MNB = metrics.precision_score(y_test, predict_MNB)\n",
        "recall_score_MNB = metrics.recall_score(y_test, predict_MNB)\n",
        "f1_score_MNB = metrics.f1_score(y_test, predict_MNB)"
      ],
      "metadata": {
        "id": "Nhmc49yB5ZtS"
      },
      "id": "Nhmc49yB5ZtS",
      "execution_count": 179,
      "outputs": []
    },
    {
      "cell_type": "markdown",
      "source": [
        "### Random Forest Classifier\n",
        "Source: https://scikit-learn.org/stable/modules/generated/sklearn.ensemble.RandomForestClassifier.html\n",
        "\n",
        "A random forest is a meta estimator that fits a number of decision tree classifiers on various sub-samples of the dataset and uses averaging to improve the predictive accuracy and control over-fitting. The sub-sample size is controlled with the max_samples parameter if bootstrap=True (default), otherwise the whole dataset is used to build each tree.\n",
        "\n"
      ],
      "metadata": {
        "id": "t3j-OFMl_qP3"
      },
      "id": "t3j-OFMl_qP3"
    },
    {
      "cell_type": "code",
      "source": [
        "#n_estimators: int, default=100\n",
        "\n",
        "model_RFS = RandomForestClassifier(n_estimators=50)\n",
        "model_RFS.fit(X_train, y_train)\n",
        "predict_RFS = model_RFS.predict(X_test)"
      ],
      "metadata": {
        "id": "m0zoGGi56RJY"
      },
      "id": "m0zoGGi56RJY",
      "execution_count": 180,
      "outputs": []
    },
    {
      "cell_type": "code",
      "source": [
        "cm_RFS = confusion_matrix(y_test, predict_RFS)\n",
        "sns.heatmap(cm_RFS, annot=True, fmt='d', cmap='Oranges')"
      ],
      "metadata": {
        "id": "IYcBevpEAVPJ",
        "outputId": "01a48c4c-b739-4e1a-adac-5826928450ff",
        "colab": {
          "base_uri": "https://localhost:8080/",
          "height": 282
        }
      },
      "id": "IYcBevpEAVPJ",
      "execution_count": 181,
      "outputs": [
        {
          "output_type": "execute_result",
          "data": {
            "text/plain": [
              "<matplotlib.axes._subplots.AxesSubplot at 0x7f5e10810f90>"
            ]
          },
          "metadata": {},
          "execution_count": 181
        },
        {
          "output_type": "display_data",
          "data": {
            "text/plain": [
              "<Figure size 432x288 with 2 Axes>"
            ],
            "image/png": "[encoded data removed]"
          },
          "metadata": {
            "needs_background": "light"
          }
        }
      ]
    },
    {
      "cell_type": "code",
      "source": [
        "print(classification_report(y_test, predict_RFS))"
      ],
      "metadata": {
        "id": "hcv_9BpJAfla",
        "outputId": "95106b82-e01d-43af-fcdd-6fbc6123c29f",
        "colab": {
          "base_uri": "https://localhost:8080/"
        }
      },
      "id": "hcv_9BpJAfla",
      "execution_count": 175,
      "outputs": [
        {
          "output_type": "stream",
          "name": "stdout",
          "text": [
            "              precision    recall  f1-score   support\n",
            "\n",
            "           0       0.97      1.00      0.99      1464\n",
            "           1       1.00      0.80      0.89       208\n",
            "\n",
            "    accuracy                           0.98      1672\n",
            "   macro avg       0.99      0.90      0.94      1672\n",
            "weighted avg       0.98      0.98      0.97      1672\n",
            "\n"
          ]
        }
      ]
    },
    {
      "cell_type": "code",
      "source": [
        "accuracy_RFS = model_RFS.score(X_test, y_test)\n",
        "precision_score_RFS = metrics.precision_score(y_test, predict_RFS)\n",
        "recall_score_RFS = metrics.recall_score(y_test, predict_RFS)\n",
        "f1_score_RFS = metrics.f1_score(y_test, predict_RFS)"
      ],
      "metadata": {
        "id": "XG41jdnvAmCh"
      },
      "id": "XG41jdnvAmCh",
      "execution_count": 169,
      "outputs": []
    },
    {
      "cell_type": "code",
      "source": [
        ""
      ],
      "metadata": {
        "id": "mApgt4zTAvDC"
      },
      "id": "mApgt4zTAvDC",
      "execution_count": null,
      "outputs": []
    },
    {
      "cell_type": "code",
      "execution_count": null,
      "id": "348f8208",
      "metadata": {
        "id": "348f8208"
      },
      "outputs": [],
      "source": [
        "classifiers = [MultinomialNB(), \n",
        "               RandomForestClassifier(),\n",
        "               KNeighborsClassifier(), \n",
        "               SVC()]\n",
        "for cls in classifiers:\n",
        "    cls.fit(X_train, y_train)\n",
        "\n",
        "# Dictionary of pipelines and model types for ease of reference\n",
        "pipe_dict = {0: \"NaiveBayes\", 1: \"RandomForest\", 2: \"KNeighbours\",3: \"SVC\"}"
      ]
    },
    {
      "cell_type": "code",
      "execution_count": null,
      "id": "275826b9",
      "metadata": {
        "id": "275826b9",
        "outputId": "188018a3-9101-413a-85a9-b9a5a9fe22ee"
      },
      "outputs": [
        {
          "name": "stdout",
          "output_type": "stream",
          "text": [
            "NaiveBayes: 0.967552 \n",
            "RandomForest: 0.976790 \n",
            "KNeighbours: 0.911450 \n",
            "SVC: 0.974086 \n"
          ]
        }
      ],
      "source": [
        "# Cossvalidation \n",
        "for i, model in enumerate(classifiers):\n",
        "    cv_score = cross_val_score(model, X_train,y_train,scoring=\"accuracy\", cv=10)\n",
        "    print(\"%s: %f \" % (pipe_dict[i], cv_score.mean()))"
      ]
    },
    {
      "cell_type": "markdown",
      "id": "b6e61dc2",
      "metadata": {
        "id": "b6e61dc2"
      },
      "source": [
        "## Compare Models\n",
        "\n",
        " "
      ]
    },
    {
      "cell_type": "markdown",
      "id": "209843c4",
      "metadata": {
        "id": "209843c4"
      },
      "source": [
        "Testing the models on Testset\n",
        "\n",
        "Accuracy Report\n",
        "Confusion Matrix"
      ]
    },
    {
      "cell_type": "code",
      "execution_count": null,
      "id": "735da06b",
      "metadata": {
        "id": "735da06b"
      },
      "outputs": [],
      "source": [
        "# Model Evaluation\n",
        "# creating lists of varios scores\n",
        "precision =[]\n",
        "recall =[]\n",
        "f1_score = []\n",
        "trainset_accuracy = []\n",
        "testset_accuracy = []\n",
        "\n",
        "for i in classifiers:\n",
        "    pred_train = i.predict(X_train)\n",
        "    pred_test = i.predict(X_test)\n",
        "    prec = metrics.precision_score(y_test, pred_test)\n",
        "    recal = metrics.recall_score(y_test, pred_test)\n",
        "    f1_s = metrics.f1_score(y_test, pred_test)\n",
        "    train_accuracy = model.score(X_train,y_train)\n",
        "    test_accuracy = model.score(X_test,y_test)\n",
        "  \n",
        "    #Appending scores\n",
        "    precision.append(prec)\n",
        "    recall.append(recal)\n",
        "    f1_score.append(f1_s)\n",
        "    trainset_accuracy.append(train_accuracy)\n",
        "    testset_accuracy.append(test_accuracy)"
      ]
    },
    {
      "cell_type": "code",
      "execution_count": null,
      "id": "8254de09",
      "metadata": {
        "id": "8254de09"
      },
      "outputs": [],
      "source": [
        "# initialise data of lists.\n",
        "data = {'Precision':precision,\n",
        "'Recall':recall,\n",
        "'F1score':f1_score,\n",
        "'Accuracy on Testset':testset_accuracy,\n",
        "'Accuracy on Trainset':trainset_accuracy}\n",
        "# Creates pandas DataFrame.\n",
        "Results = pd.DataFrame(data, index =[\"NaiveBayes\", \"RandomForest\", \"KNeighbours\",\"SVC\"])"
      ]
    },
    {
      "cell_type": "code",
      "execution_count": null,
      "id": "d3a08d05",
      "metadata": {
        "id": "d3a08d05",
        "outputId": "b1bcbc00-3f9a-497f-a314-9bf659476ba2"
      },
      "outputs": [
        {
          "data": {
            "text/html": [
              "<style  type=\"text/css\" >\n",
              "#T_d484f_row0_col0,#T_d484f_row1_col0,#T_d484f_row1_col1,#T_d484f_row1_col2{\n",
              "            background-color:  #b40426;\n",
              "            color:  #f1f1f1;\n",
              "        }#T_d484f_row0_col1{\n",
              "            background-color:  #f08a6c;\n",
              "            color:  #000000;\n",
              "        }#T_d484f_row0_col2{\n",
              "            background-color:  #e67259;\n",
              "            color:  #000000;\n",
              "        }#T_d484f_row0_col3,#T_d484f_row0_col4,#T_d484f_row1_col3,#T_d484f_row1_col4,#T_d484f_row2_col0,#T_d484f_row2_col1,#T_d484f_row2_col2,#T_d484f_row2_col3,#T_d484f_row2_col4,#T_d484f_row3_col3,#T_d484f_row3_col4{\n",
              "            background-color:  #3b4cc0;\n",
              "            color:  #f1f1f1;\n",
              "        }#T_d484f_row3_col0{\n",
              "            background-color:  #f1cdba;\n",
              "            color:  #000000;\n",
              "        }#T_d484f_row3_col1{\n",
              "            background-color:  #b8122a;\n",
              "            color:  #f1f1f1;\n",
              "        }#T_d484f_row3_col2{\n",
              "            background-color:  #bb1b2c;\n",
              "            color:  #f1f1f1;\n",
              "        }</style><table id=\"T_d484f_\" ><thead>    <tr>        <th class=\"blank level0\" ></th>        <th class=\"col_heading level0 col0\" >Precision</th>        <th class=\"col_heading level0 col1\" >Recall</th>        <th class=\"col_heading level0 col2\" >F1score</th>        <th class=\"col_heading level0 col3\" >Accuracy on Testset</th>        <th class=\"col_heading level0 col4\" >Accuracy on Trainset</th>    </tr></thead><tbody>\n",
              "                <tr>\n",
              "                        <th id=\"T_d484f_level0_row0\" class=\"row_heading level0 row0\" >NaiveBayes</th>\n",
              "                        <td id=\"T_d484f_row0_col0\" class=\"data row0 col0\" >1.000000</td>\n",
              "                        <td id=\"T_d484f_row0_col1\" class=\"data row0 col1\" >0.705882</td>\n",
              "                        <td id=\"T_d484f_row0_col2\" class=\"data row0 col2\" >0.827586</td>\n",
              "                        <td id=\"T_d484f_row0_col3\" class=\"data row0 col3\" >0.974775</td>\n",
              "                        <td id=\"T_d484f_row0_col4\" class=\"data row0 col4\" >0.997521</td>\n",
              "            </tr>\n",
              "            <tr>\n",
              "                        <th id=\"T_d484f_level0_row1\" class=\"row_heading level0 row1\" >RandomForest</th>\n",
              "                        <td id=\"T_d484f_row1_col0\" class=\"data row1 col0\" >1.000000</td>\n",
              "                        <td id=\"T_d484f_row1_col1\" class=\"data row1 col1\" >0.808824</td>\n",
              "                        <td id=\"T_d484f_row1_col2\" class=\"data row1 col2\" >0.894309</td>\n",
              "                        <td id=\"T_d484f_row1_col3\" class=\"data row1 col3\" >0.974775</td>\n",
              "                        <td id=\"T_d484f_row1_col4\" class=\"data row1 col4\" >0.997521</td>\n",
              "            </tr>\n",
              "            <tr>\n",
              "                        <th id=\"T_d484f_level0_row2\" class=\"row_heading level0 row2\" >KNeighbours</th>\n",
              "                        <td id=\"T_d484f_row2_col0\" class=\"data row2 col0\" >0.977778</td>\n",
              "                        <td id=\"T_d484f_row2_col1\" class=\"data row2 col1\" >0.323529</td>\n",
              "                        <td id=\"T_d484f_row2_col2\" class=\"data row2 col2\" >0.486188</td>\n",
              "                        <td id=\"T_d484f_row2_col3\" class=\"data row2 col3\" >0.974775</td>\n",
              "                        <td id=\"T_d484f_row2_col4\" class=\"data row2 col4\" >0.997521</td>\n",
              "            </tr>\n",
              "            <tr>\n",
              "                        <th id=\"T_d484f_level0_row3\" class=\"row_heading level0 row3\" >SVC</th>\n",
              "                        <td id=\"T_d484f_row3_col0\" class=\"data row3 col0\" >0.990909</td>\n",
              "                        <td id=\"T_d484f_row3_col1\" class=\"data row3 col1\" >0.801471</td>\n",
              "                        <td id=\"T_d484f_row3_col2\" class=\"data row3 col2\" >0.886179</td>\n",
              "                        <td id=\"T_d484f_row3_col3\" class=\"data row3 col3\" >0.974775</td>\n",
              "                        <td id=\"T_d484f_row3_col4\" class=\"data row3 col4\" >0.997521</td>\n",
              "            </tr>\n",
              "    </tbody></table>"
            ],
            "text/plain": [
              "<pandas.io.formats.style.Styler at 0x1c80b31f3a0>"
            ]
          },
          "execution_count": 40,
          "metadata": {},
          "output_type": "execute_result"
        }
      ],
      "source": [
        "Results.style.background_gradient(cmap='coolwarm')"
      ]
    },
    {
      "cell_type": "code",
      "execution_count": null,
      "id": "b9508a89",
      "metadata": {
        "id": "b9508a89",
        "outputId": "4b26e5d6-e08f-4f42-86e4-d4c210f4f7fe"
      },
      "outputs": [
        {
          "data": {
            "image/png": "[encoded data removed]",
            "text/plain": [
              "<Figure size 1080x720 with 8 Axes>"
            ]
          },
          "metadata": {
            "needs_background": "light"
          },
          "output_type": "display_data"
        }
      ],
      "source": [
        "fig, axes = plt.subplots(nrows=2, ncols=2, figsize=(15,10))\n",
        "\n",
        "for cls, ax in zip(classifiers, axes.flatten()):\n",
        "    plot_confusion_matrix(cls, \n",
        "                          X_test, \n",
        "                          y_test, \n",
        "                          ax=ax, \n",
        "                          cmap= 'coolwarm',   \n",
        "                          )\n",
        "    ax.title.set_text(type(cls).__name__)\n",
        "plt.tight_layout()  \n",
        "plt.show()"
      ]
    },
    {
      "cell_type": "code",
      "execution_count": null,
      "id": "85730118",
      "metadata": {
        "id": "85730118",
        "outputId": "e731734b-3b0d-4b9c-a46f-a7be15364ecb"
      },
      "outputs": [
        {
          "data": {
            "text/plain": [
              "MultinomialNB()"
            ]
          },
          "execution_count": 43,
          "metadata": {},
          "output_type": "execute_result"
        }
      ],
      "source": [
        ""
      ]
    },
    {
      "cell_type": "code",
      "execution_count": null,
      "id": "03260bf9",
      "metadata": {
        "id": "03260bf9"
      },
      "outputs": [],
      "source": [
        "import pickle"
      ]
    },
    {
      "cell_type": "code",
      "execution_count": null,
      "id": "44a252d5",
      "metadata": {
        "id": "44a252d5"
      },
      "outputs": [],
      "source": [
        "pickle.dump(classifiers[0], open('SpamDetectorModelNB.pkl', 'wb'))\n",
        "pickle.dump(tfidf, open('Vectorizer.pkl', 'wb'))"
      ]
    },
    {
      "cell_type": "code",
      "execution_count": null,
      "id": "f1ae02e3",
      "metadata": {
        "id": "f1ae02e3",
        "outputId": "5905ae1a-ffae-4ce9-e960-65037a124009"
      },
      "outputs": [
        {
          "data": {
            "text/plain": [
              "array([0, 0, 0, ..., 1, 0, 0])"
            ]
          },
          "execution_count": 48,
          "metadata": {},
          "output_type": "execute_result"
        }
      ],
      "source": [
        "pickled_model = pickle.load(open('SpamDetectorModelNB.pkl', 'rb'))\n",
        "pickled_model.predict(X_test)"
      ]
    },
    {
      "cell_type": "code",
      "execution_count": null,
      "id": "4367fbcc",
      "metadata": {
        "id": "4367fbcc",
        "outputId": "c9eae49b-2201-4e5c-aa2b-b38d665f6273"
      },
      "outputs": [
        {
          "data": {
            "text/plain": [
              "{'Precision': [1.0, 1.0, 0.9777777777777777, 0.990909090909091],\n",
              " 'Recall': [0.7058823529411765,\n",
              "  0.8088235294117647,\n",
              "  0.3235294117647059,\n",
              "  0.8014705882352942],\n",
              " 'F1score': [0.8275862068965517,\n",
              "  0.8943089430894309,\n",
              "  0.4861878453038674,\n",
              "  0.8861788617886179],\n",
              " 'Accuracy on Testset': [0.9747747747747748,\n",
              "  0.9747747747747748,\n",
              "  0.9747747747747748,\n",
              "  0.9747747747747748],\n",
              " 'Accuracy on Trainset': [0.9975214060387562,\n",
              "  0.9975214060387562,\n",
              "  0.9975214060387562,\n",
              "  0.9975214060387562]}"
            ]
          },
          "execution_count": 50,
          "metadata": {},
          "output_type": "execute_result"
        }
      ],
      "source": [
        "data"
      ]
    },
    {
      "cell_type": "code",
      "execution_count": null,
      "id": "5a6610cd",
      "metadata": {
        "id": "5a6610cd"
      },
      "outputs": [],
      "source": [
        ""
      ]
    }
  ],
  "metadata": {
    "kernelspec": {
      "display_name": "Python 3",
      "language": "python",
      "name": "python3"
    },
    "language_info": {
      "codemirror_mode": {
        "name": "ipython",
        "version": 3
      },
      "file_extension": ".py",
      "mimetype": "text/x-python",
      "name": "python",
      "nbconvert_exporter": "python",
      "pygments_lexer": "ipython3",
      "version": "3.8.8"
    },
    "colab": {
      "name": "Spam Detector.ipynb",
      "provenance": [],
      "toc_visible": true
    }
  },
  "nbformat": 4,
  "nbformat_minor": 5
}